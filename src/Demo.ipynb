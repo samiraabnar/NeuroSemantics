{
 "cells": [
  {
   "cell_type": "markdown",
   "metadata": {},
   "source": [
    "S T-SNE visualization of Brain Activations for each trial for P2:"
   ]
  },
  {
   "cell_type": "code",
   "execution_count": 2,
   "metadata": {},
   "outputs": [
    {
     "name": "stdout",
     "output_type": "stream",
     "text": [
      "(360, 500)\n",
      "(360, 500)\n",
      "Computing t-SNE embedding\n"
     ]
    }
   ],
   "source": [
    "import numpy as np\n",
    "import matplotlib.pyplot as plt\n",
    "from matplotlib import offsetbox\n",
    "from sklearn import manifold\n",
    "from sklearn import preprocessing\n",
    "from numpy import genfromtxt\n",
    "import csv\n",
    "\n",
    "import sys\n",
    "sys.path.append('../../')\n",
    "from NeuroSemantics.src.functions import *\n",
    "\n",
    "def plot_embedding(features, classes, labels, title=None):\n",
    "    x_min, x_max = np.min(features, 0), np.max(features, 0)\n",
    "    features = (features - x_min) / (x_max - x_min)\n",
    "\n",
    "    plt.figure()\n",
    "    ax = plt.subplot(111)\n",
    "    for i in range(features.shape[0]):\n",
    "        plt.text(features[i, 0], features[i, 1], str(labels[i]),\n",
    "                 color=plt.cm.Set1(float(classes[i]/60)),\n",
    "                 fontdict={'weight': 'bold', 'size': 9})\n",
    "\n",
    "    if hasattr(offsetbox, 'AnnotationBbox'):\n",
    "        # only print thumbnails with matplotlib > 1.0\n",
    "        shown_images = np.array([[1., 1.]])  # just something big\n",
    "        for i in range(features.shape[0]):\n",
    "            dist = np.sum((features[i] - shown_images) ** 2, 1)\n",
    "            #if np.min(dist) < 4e-3:\n",
    "                # don't show points that are too close\n",
    "            #    continue\n",
    "            shown_images = np.r_[shown_images, [features[i]]]\n",
    "            \"\"\"imagebox = offsetbox.AnnotationBbox(\n",
    "                offsetbox.OffsetImage(digits.images[i], cmap=plt.cm.gray_r),\n",
    "                X[i])\n",
    "            ax.add_artist(imagebox)\"\"\"\n",
    "    plt.xticks([]), plt.yticks([])\n",
    "    if title is not None:\n",
    "        plt.title(title)\n",
    "\n",
    "\n",
    "\n",
    "def plot_distribution_t_SNE(activations,words,labels):\n",
    "    print(\"Computing t-SNE embedding\")\n",
    "\n",
    "    x = np.asarray(activations)\n",
    "    #x = preprocessing.normalize(x, norm='l2')\n",
    "\n",
    "    tsne = manifold.TSNE(n_components=2, init='pca', perplexity=2,n_iter=20000,early_exaggeration=10,learning_rate=100, method=\"exact\")\n",
    "    X_tsne = tsne.fit_transform(x)\n",
    "\n",
    "    plot_embedding(X_tsne, np.asarray(words), labels,\n",
    "                                       \"t-SNE embedding of the brain activations\")\n",
    "\n",
    "    plt.show()\n",
    "\n",
    "\n",
    "if __name__ == '__main__':\n",
    "    from sklearn.preprocessing import scale\n",
    "    brain_activations_1 = genfromtxt('../data/data_2.csv', delimiter=',')\n",
    "    brain_activations = brain_activations_1#scale(brain_activations_1, axis=1, with_mean=True, with_std=True, copy=True)#stats.zscore(brain_activations_1,axis=1)\n",
    "\n",
    "\n",
    "    words_1 = []\n",
    "    with open('../data/words', 'r') as f:\n",
    "        reader = csv.reader(f)\n",
    "        words_1 = list(reader)\n",
    "\n",
    "    words = []\n",
    "    words.extend([w[0] for w in words_1])\n",
    "    word_set = list(set(words))\n",
    "\n",
    "    dic, word_representations = get_word_representation(\"F25\", words)\n",
    "\n",
    "    #plot_distribution_t_SNE(np.asarray(brain_activations)[:,all_selected[0]],[word_set.index(word) for word in words],words)\n",
    "\n",
    "    number_of_features = len(word_representations[0])\n",
    "\n",
    "    selected = select_stable_voxels(brain_activations, word_set, words, 6)\n",
    "    acts = sigmoid(np.asarray(brain_activations)[:,selected]) #* np.sum(w.get_weights()[0],axis=1)\n",
    "    print(np.asarray(acts).shape)\n",
    "    acts = softmax(np.asarray(acts))\n",
    "    print(acts.shape)\n",
    "    plot_distribution_t_SNE(acts,\n",
    "                                [word_set.index(word) for word in words], words)"
   ]
  },
  {
   "cell_type": "code",
   "execution_count": null,
   "metadata": {
    "collapsed": true
   },
   "outputs": [],
   "source": []
  }
 ],
 "metadata": {
  "anaconda-cloud": {},
  "kernelspec": {
   "display_name": "Python 3",
   "language": "python",
   "name": "python3"
  },
  "language_info": {
   "codemirror_mode": {
    "name": "ipython",
    "version": 3
   },
   "file_extension": ".py",
   "mimetype": "text/x-python",
   "name": "python",
   "nbconvert_exporter": "python",
   "pygments_lexer": "ipython3",
   "version": "3.6.8"
  },
  "latex_envs": {
   "bibliofile": "biblio.bib",
   "cite_by": "apalike",
   "current_citInitial": 1,
   "eqLabelWithNumbers": true,
   "eqNumInitial": 0
  }
 },
 "nbformat": 4,
 "nbformat_minor": 1
}
