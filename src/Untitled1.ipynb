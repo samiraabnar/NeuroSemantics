{
 "cells": [
  {
   "cell_type": "code",
   "execution_count": 1,
   "metadata": {
    "collapsed": false
   },
   "outputs": [],
   "source": [
    "import csv\n",
    "import numpy as np\n",
    "from numpy import genfromtxt\n",
    "\n",
    "import sys\n",
    "sys.path.append('../../')\n",
    "\n",
    "from NeuroSemantics.src.WordEmbeddingLayer import *\n",
    "from NeuroSemantics.src.functions import *\n",
    "\n",
    "\n",
    "\n",
    "\n",
    "coords = []\n",
    "with open('../data/coords', 'r') as f:\n",
    "    reader = csv.reader(f)\n",
    "    coords = list(reader)\n",
    "    \n",
    "words= []\n",
    "with open('../data/words', 'r') as f:\n",
    "    reader = csv.reader(f)\n",
    "    words = list(reader)\n",
    "words = [w[0] for w in words]\n",
    "word_set = list(set(words))\n",
    "    \n",
    "    \n",
    "brain_activations_1 = genfromtxt('../data/data.csv', delimiter=',')"
   ]
  },
  {
   "cell_type": "code",
   "execution_count": 10,
   "metadata": {
    "collapsed": true
   },
   "outputs": [],
   "source": [
    "selected = np.load(\"general_selected_500.npy\")#select_stable_voxels(brain_activations_1, word_set, words, 6,500) #np.arange(len(brain_activations_1[0]))# select_stable_voxels(brain_activations_1, word_set, words, 6,2000)"
   ]
  },
  {
   "cell_type": "code",
   "execution_count": 11,
   "metadata": {
    "collapsed": false
   },
   "outputs": [
    {
     "name": "stdout",
     "output_type": "stream",
     "text": [
      "0.380171873895\n",
      "11.998336759\n",
      "-3.72727049905\n",
      "21764\n",
      "0\n",
      "0.0010645614217\n"
     ]
    }
   ],
   "source": [
    "#brain_activations_1 = scale_linear_bycolumn(brain_activations_1,1,0) \n",
    "\n",
    "#brain_activations_1_selected = np.asarray([b / np.sum(b) for b in brain_activations_1[:,selected]])\n",
    "brain_activations_1_selected = softmax(sigmoid(brain_activations_1[:,selected]))\n",
    "coords_selected = np.asarray(coords)[selected,:]\n",
    "print(mean(brain_activations_1[0]))\n",
    "print(max(brain_activations_1[0]))\n",
    "print(min(brain_activations_1[0]))\n",
    "fMRI = np.zeros((51,61,23)) + np.min(brain_activations_1_selected)\n",
    "print(len(coords))\n",
    "print(int(coords[0][2]) - 1)\n",
    "print(fMRI[int(coords[0][0]) - 1][int(coords[0][1]) - 1][int(coords[0][2])-1])"
   ]
  },
  {
   "cell_type": "code",
   "execution_count": 12,
   "metadata": {
    "collapsed": false
   },
   "outputs": [],
   "source": [
    "for i in np.arange(len(coords_selected)):\n",
    "    fMRI[int(coords_selected[i][0]) - 1][int(coords_selected[i][1]) - 1][int(coords_selected[i][2]) - 1] = brain_activations_1_selected[word_set.index(\"airplane\")][i]"
   ]
  },
  {
   "cell_type": "code",
   "execution_count": 13,
   "metadata": {
    "collapsed": false
   },
   "outputs": [
    {
     "name": "stdout",
     "output_type": "stream",
     "text": [
      "12.2373669953\n"
     ]
    }
   ],
   "source": [
    "print(np.max(brain_activations_1))"
   ]
  },
  {
   "cell_type": "code",
   "execution_count": 14,
   "metadata": {
    "collapsed": false
   },
   "outputs": [
    {
     "name": "stdout",
     "output_type": "stream",
     "text": [
      "Using matplotlib backend: MacOSX\n"
     ]
    }
   ],
   "source": [
    "%matplotlib\n",
    "from matplotlib import pyplot as plt\n",
    "\n",
    "#fMRI = fMRI / np.sum(fMRI)\n",
    "\n",
    "plt.figure(1) \n",
    "for z in np.arange(23):\n",
    "    plt.subplot(5,5,z+1)\n",
    "    im = plt.imshow(fMRI[:,:,z], interpolation='none',aspect='auto',vmin=np.min(fMRI),vmax=np.max(fMRI))\n",
    "    im.axes.get_xaxis().set_visible(False)\n",
    "    im.axes.get_yaxis().set_visible(False)\n",
    "\n",
    "\n",
    "plt.colorbar(im)\n",
    "plt.show()"
   ]
  },
  {
   "cell_type": "code",
   "execution_count": 47,
   "metadata": {
    "collapsed": false
   },
   "outputs": [
    {
     "name": "stdout",
     "output_type": "stream",
     "text": [
      "[  -2   68   91 ...,  -67 -145  -85]\n"
     ]
    },
    {
     "data": {
      "text/plain": [
       "<matplotlib.figure.Figure at 0x1044d3ba8>"
      ]
     },
     "metadata": {},
     "output_type": "display_data"
    }
   ],
   "source": [
    "import numpy as np\n",
    "from pylab import *\n",
    "from mpl_toolkits.mplot3d import Axes3D\n",
    "import matplotlib.pyplot as plt\n",
    "\n",
    "def randrange(n, vmin, vmax):\n",
    "    return (vmax-vmin)*np.random.rand(n) + vmin\n",
    "\n",
    "fig = plt.figure(figsize=(8,6))\n",
    "\n",
    "ax = fig.add_subplot(111,projection='3d')\n",
    "n = 100\n",
    "\n",
    "xs = np.asarray(coords,dtype=\"float32\")[:,0]\n",
    "ys = np.asarray(coords,dtype=\"float32\")[:,1]\n",
    "zs = np.asarray(coords,dtype=\"float32\")[:,2]\n",
    "the_fourth_dimension = np.asarray(brain_activations_1[0]*100,dtype=int)\n",
    "\n",
    "print(the_fourth_dimension)\n",
    "\n",
    "%matplotlib inline\n",
    "yg = ax.scatter(xs, ys, zs,cmap='hot',c=the_fourth_dimension)\n",
    "colors = cm.hsv(the_fourth_dimension/max(the_fourth_dimension))\n",
    "\n",
    "colmap = cm.ScalarMappable(cmap=cm.hsv)\n",
    "colmap.set_array(the_fourth_dimension)\n",
    "ax.set_xlabel('X Label')\n",
    "ax.set_ylabel('Y Label')\n",
    "ax.set_zlabel('Z Label')\n",
    "\n",
    "plt.savefig(\"3d\")\n",
    "plt.show()"
   ]
  }
 ],
 "metadata": {
  "anaconda-cloud": {},
  "kernelspec": {
   "display_name": "Python [default]",
   "language": "python",
   "name": "python3"
  },
  "language_info": {
   "codemirror_mode": {
    "name": "ipython",
    "version": 3.0
   },
   "file_extension": ".py",
   "mimetype": "text/x-python",
   "name": "python",
   "nbconvert_exporter": "python",
   "pygments_lexer": "ipython3",
   "version": "3.5.2"
  },
  "latex_envs": {
   "bibliofile": "biblio.bib",
   "cite_by": "apalike",
   "current_citInitial": 1.0,
   "eqLabelWithNumbers": true,
   "eqNumInitial": 0.0
  }
 },
 "nbformat": 4,
 "nbformat_minor": 0
}