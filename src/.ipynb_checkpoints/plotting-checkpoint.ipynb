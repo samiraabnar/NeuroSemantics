{
 "cells": [
  {
   "cell_type": "code",
   "execution_count": 1,
   "metadata": {
    "collapsed": false
   },
   "outputs": [
    {
     "data": {
      "text/plain": [
       "'\\nreal_activatoins_1 = {}\\nreal_activatoins_2 = {}\\nreal_activatoins_3 = {}\\nreal_activatoins_4 = {}\\nreal_activatoins_5 = {}\\nreal_activatoins_6 = {}\\nreal_activatoins_7 = {}\\nreal_activatoins_8 = {}\\nreal_activatoins_9 = {}\\n'"
      ]
     },
     "execution_count": 1,
     "metadata": {},
     "output_type": "execute_result"
    }
   ],
   "source": [
    "from numpy import genfromtxt\n",
    "import csv\n",
    "import numpy as np\n",
    "from matplotlib import pyplot as plt\n",
    "import dit\n",
    "\n",
    "\n",
    "import sys\n",
    "sys.path.append('../../')\n",
    "\n",
    "from NeuroSemantics.src.WordEmbeddingLayer import *\n",
    "from NeuroSemantics.src.functions import *\n",
    "\n",
    "\n",
    "brain_activations_1 = genfromtxt('../data/data.csv', delimiter=',')\n",
    "\n",
    "\"\"\"\"\n",
    "brain_activations_2 = genfromtxt('../data/data_2.csv', delimiter=',')\n",
    "\n",
    "brain_activations_3 = genfromtxt('../data/data_3.csv', delimiter=',')\n",
    "\n",
    "brain_activations_4 = genfromtxt('../data/data_4.csv', delimiter=',')\n",
    "\n",
    "brain_activations_5 = genfromtxt('../data/data_5.csv', delimiter=',')\n",
    "\n",
    "brain_activations_6 = genfromtxt('../data/data_6.csv', delimiter=',')\n",
    "\n",
    "brain_activations_7 = genfromtxt('../data/data_7.csv', delimiter=',')\n",
    "\n",
    "brain_activations_8 = genfromtxt('../data/data_8.csv', delimiter=',')\n",
    "\n",
    "brain_activations_9 = genfromtxt('../data/data_9.csv', delimiter=',')\n",
    "\"\"\"\n",
    "\n",
    "number_of_voxels = len(brain_activations_1[0])\n",
    "words = []\n",
    "with open('../data/words', 'r') as f:\n",
    "    reader = csv.reader(f)\n",
    "    words = list(reader)\n",
    "\n",
    "words = [w[0] for w in words]\n",
    "word_set = list(set(words))\n",
    "\n",
    "#selected = select_stable_voxels(brain_activations_1, word_set,words, 6)\n",
    "#softmax_activations = softmax(brain_activations_1[:,selected])\n",
    "\n",
    "word_activations_dic = {}\n",
    "\"\"\"\n",
    "real_activatoins_1 = {}\n",
    "real_activatoins_2 = {}\n",
    "real_activatoins_3 = {}\n",
    "real_activatoins_4 = {}\n",
    "real_activatoins_5 = {}\n",
    "real_activatoins_6 = {}\n",
    "real_activatoins_7 = {}\n",
    "real_activatoins_8 = {}\n",
    "real_activatoins_9 = {}\n",
    "\"\"\""
   ]
  },
  {
   "cell_type": "code",
   "execution_count": 21,
   "metadata": {
    "collapsed": true
   },
   "outputs": [],
   "source": [
    "for word in word_set:\n",
    "    word_activations_dic[word] = []\n",
    "    \"\"\"\n",
    "    real_activatoins_1[word] = []\n",
    "    real_activatoins_2[word] = []\n",
    "    real_activatoins_3[word] = []\n",
    "    real_activatoins_4[word] = []\n",
    "    real_activatoins_5[word] = []\n",
    "    real_activatoins_6[word] = []\n",
    "    real_activatoins_7[word] = []\n",
    "    real_activatoins_8[word] = []\n",
    "    real_activatoins_9[word] = []\n",
    "    \"\"\"\n",
    "\n",
    "for i in np.arange(len(words)):\n",
    "    word_activations_dic[word].append(brain_activations_1[i])\n",
    "    \"\"\"\"real_activatoins_1[words[i]].append(softmax(brain_activations_1[i]))\n",
    "    real_activatoins_2[words[i]].append(softmax(brain_activations_2[i]))\n",
    "    real_activatoins_3[words[i]].append(softmax(brain_activations_3[i]))\n",
    "    real_activatoins_4[words[i]].append(softmax(brain_activations_4[i]))\n",
    "    real_activatoins_5[words[i]].append(softmax(brain_activations_5[i]))\n",
    "    real_activatoins_6[words[i]].append(softmax(brain_activations_6[i]))\n",
    "    real_activatoins_7[words[i]].append(softmax(brain_activations_7[i]))\n",
    "    real_activatoins_8[words[i]].append(softmax(brain_activations_8[i]))\n",
    "    real_activatoins_9[words[i]].append(softmax(brain_activations_9[i]))\"\"\""
   ]
  },
  {
   "cell_type": "code",
   "execution_count": 22,
   "metadata": {
    "collapsed": false
   },
   "outputs": [
    {
     "name": "stdout",
     "output_type": "stream",
     "text": [
      "[  3.84028935e-06   7.82394073e-06   9.83171340e-06 ...,   2.01715131e-06\n",
      "   9.18753183e-07   1.68584949e-06]\n"
     ]
    }
   ],
   "source": []
  },
  {
   "cell_type": "code",
   "execution_count": 23,
   "metadata": {
    "collapsed": false
   },
   "outputs": [
    {
     "name": "stdout",
     "output_type": "stream",
     "text": [
      "horse : 0.101936641173 0.100092873613 0.122104229404 0.0750934744559 0.239660741003 0.388519749151 0.353645943812 0.40597929921 0.302684593837\n",
      "watch : 0.0679227221469 0.0893196833327 0.145501848841 0.12779521591 0.461972662213 0.51769722301 0.233694340763 0.579923494088 0.164818181685\n",
      "skirt : 0.0910768906208 0.107291986006 0.0941170014836 0.0632398654416 0.340317176491 0.311287199389 0.285186950807 0.481705172561 0.236166015051\n",
      "knife : 0.0873946326567 0.0869605569223 0.362151426684 0.0721183685455 0.253236847388 0.456472105963 0.352666648502 0.488877266615 0.385688245545\n",
      "car : 0.0906493580274 0.268432207087 0.28334112616 0.0917736990407 0.257839517022 0.319609314356 0.328852792697 0.549241631056 0.256991732822\n",
      "bear : 0.100061391036 0.154212827577 0.121980626126 0.077219362746 0.212494590551 0.458321972229 0.221732990479 0.606969059903 0.131250125393\n",
      "shirt : 0.135046878798 0.139491685471 0.185157381325 0.0704057675493 0.129964613343 0.282980548977 0.47341202396 0.4858746077 0.175092014882\n",
      "carrot : 0.0913355964883 0.128304005894 0.115104794722 0.0767409750706 0.475393882085 0.41771825517 0.291185729236 0.548506897037 0.25873396695\n",
      "fly : 0.0691170301541 0.0836333852069 0.326358172998 0.0924862784472 0.196956658997 0.525617933505 0.26176010852 0.501069583762 0.29317204652\n",
      "tomato : 0.0773547342506 0.0973697898882 0.0927229657242 0.0984059325227 0.308055291027 0.475281150122 0.303469031634 0.469632378583 0.328324060363\n",
      "spoon : 0.0743173983996 0.0802687513901 0.116237154681 0.0910068554649 0.22255974994 0.199031035015 0.325332631414 0.552074635655 0.216518284553\n",
      "lettuce : 0.073441757141 0.261844269063 0.134521393588 0.0682845689652 0.17109847063 0.401500538489 0.146363591404 0.561774458965 0.244129731606\n",
      "igloo : 0.078706361365 0.250132980493 0.09919881743 0.083222111417 0.155077074657 0.409097091401 0.25834859771 0.514808020134 0.293767481982\n",
      "telephone : 0.139760620438 0.27241664377 0.130508334885 0.0716871412757 0.300286449501 0.362056214475 0.188094631418 0.469017515566 0.281471143447\n",
      "barn : 0.100204976333 0.132588511935 0.166011682868 0.0806855458481 0.230891995258 0.269255026143 0.35676409826 0.591119492276 0.131869662067\n",
      "airplane : 0.109308440213 0.107945331603 0.262872607257 0.0748108733245 0.258348981348 0.362634923896 0.440666651877 0.495067826862 0.310061143952\n",
      "hand : 0.0844867045202 0.150964731255 0.106055517386 0.0799088334722 0.318575958631 0.379000796421 0.196193089814 0.545823618861 0.164672974979\n",
      "foot : 0.0832484609252 0.162970683535 0.285317506031 0.0652881925024 0.328324773672 0.462769478515 0.196796718778 0.561180266568 0.120076081734\n",
      "cow : 0.0890479990653 0.112894678176 0.0981096318083 0.086895403725 0.233610695712 0.32345608059 0.426257149576 0.555041138076 0.219587436553\n",
      "train : 0.167674012456 0.100726112641 0.141315263502 0.0885201288246 0.125634898466 0.349614920549 0.20925736674 0.564205623579 0.133654176423\n",
      "cup : 0.132090529519 0.122815179629 0.280193618124 0.105175668685 0.171300972675 0.289464552317 0.480065816128 0.560085376521 0.175400147971\n",
      "window : 0.0958714079576 0.103349557722 0.204181110784 0.0881920224784 0.110289400535 0.331274807045 0.327781127658 0.552309028728 0.206405118576\n",
      "coat : 0.17007133294 0.108110984543 0.217273413539 0.109669740241 0.135870331093 0.514797761087 0.248830140453 0.485279339383 0.240629866128\n",
      "bee : 0.149523247229 0.128427512197 0.257738742216 0.0707934064476 0.139621400759 0.361288311324 0.188249715655 0.545635007061 0.275813270249\n",
      "saw : 0.127015739836 0.176627485068 0.201947406896 0.0759902664811 0.286884856548 0.496610869144 0.304254839234 0.555456821387 0.200796005279\n",
      "chimney : 0.167800361938 0.077518382848 0.319546257464 0.0772083234727 0.162516083182 0.408244896023 0.467924174553 0.476208920951 0.170254707443\n",
      "bed : 0.0973634650957 0.183701345017 0.113216680482 0.0672577008194 0.311507312955 0.449563393618 0.269041083866 0.530937524097 0.190935096337\n",
      "corn : 0.0867400056942 0.0853021674605 0.0860730033489 0.0856409956433 0.169449441845 0.531491274782 0.206310066068 0.3978424489 0.238304714308\n",
      "refrigerator : 0.189602593185 0.141821094312 0.213088855693 0.080599491342 0.122007755744 0.288905392387 0.357591554721 0.611633931065 0.183473340164\n",
      "table : 0.185831443184 0.0701117344074 0.183841521788 0.0748885302199 0.161656794097 0.39541265374 0.192921606294 0.553326310119 0.123654291249\n",
      "pants : 0.152861676964 0.0655651592665 0.180524982238 0.0787318616963 0.136346328043 0.29385183556 0.209490833529 0.612263939603 0.279958229341\n",
      "ant : 0.0834510139554 0.170853382506 0.0979828812142 0.0900727633652 0.367748696621 0.33314318413 0.189504173099 0.511853323301 0.291165114066\n",
      "chisel : 0.138183907678 0.148721689543 0.223603148248 0.064107954958 0.30672115082 0.378351412527 0.445262220579 0.53719090011 0.287430316388\n",
      "house : 0.208218991218 0.132901122694 0.195491382897 0.0704165411561 0.103263048916 0.280643819007 0.190958654679 0.599663816382 0.130789670549\n",
      "chair : 0.0813602456784 0.292093054933 0.187290619862 0.0720394035946 0.170181277165 0.350889191444 0.36567568763 0.58562831687 0.140958408292\n",
      "arm : 0.104329186972 0.0896538871843 0.115756332513 0.0637519424413 0.303706110588 0.242005603151 0.2854191239 0.502935702837 0.115565960709\n",
      "arch : 0.0944780724513 0.109235140652 0.177593113611 0.0740950814554 0.133749310041 0.486104246877 0.434939657001 0.499450626885 0.288926135449\n",
      "cat : 0.0975219450388 0.0814009376961 0.252056697065 0.0682743870401 0.37981924015 0.232644822199 0.215703644139 0.484081091498 0.182803795091\n",
      "church : 0.0819354287042 0.0995883198893 0.203741791685 0.079749424708 0.217914923516 0.230250295553 0.369930007965 0.504812598897 0.195820192598\n",
      "bottle : 0.115909977051 0.11265584869 0.105054679687 0.0706429313792 0.133558513961 0.34525952923 0.261751917073 0.494621688408 0.155540796924\n",
      "key : 0.0792195868665 0.149902776791 0.168793319752 0.0812598276884 0.16895409367 0.45859646531 0.298702004401 0.512413875494 0.17235163737\n",
      "glass : 0.0778174522997 0.258275427173 0.169893237377 0.0837751561769 0.292277586575 0.516761512725 0.213639335269 0.44059527318 0.348718045172\n",
      "desk : 0.126975076899 0.134550455932 0.165489281071 0.0983789550654 0.260257065849 0.48291277691 0.435177231726 0.586709624957 0.180586347999\n",
      "eye : 0.19981306215 0.180670520625 0.148577358464 0.079176735454 0.235758985308 0.39637665233 0.389477117032 0.534927440012 0.158265129939\n",
      "dog : 0.107494575021 0.0765893469429 0.23973138674 0.0800197048471 0.161207422987 0.299114500199 0.285094558926 0.54688175706 0.15069728887\n",
      "celery : 0.0740684996609 0.304557701959 0.144503722728 0.0646106630123 0.130158704242 0.319931169291 0.400506791345 0.535372644128 0.390133714745\n",
      "screwdriver : 0.0829488988924 0.0823577906214 0.147765471765 0.082167864054 0.173345679709 0.368059284024 0.156899284546 0.450010611813 0.0979544486711\n",
      "leg : 0.0787039297985 0.109545703591 0.165737526332 0.069907632362 0.0982854789665 0.370138446658 0.317289263363 0.406652359727 0.293016349727\n",
      "truck : 0.0739984058677 0.0837573276221 0.302880747546 0.06221869232 0.210483369805 0.325441747053 0.347524774147 0.708401918061 0.354903422518\n",
      "closet : 0.106614119672 0.163669956654 0.109116452867 0.082362750175 0.192465983795 0.211492631234 0.272997519296 0.406758000786 0.258276317657\n",
      "butterfly : 0.111429930866 0.170887130494 0.136102517303 0.075483662897 0.288789673887 0.411648641712 0.208995266252 0.586083443815 0.135831422644\n",
      "dresser : 0.115575718409 0.0773935299846 0.106563911455 0.0704716200267 0.307781969231 0.343533546574 0.200075093058 0.53672240785 0.171410533471\n",
      "bell : 0.0958035807064 0.126821346847 0.146102072447 0.0744780933185 0.259572458026 0.374072076947 0.431492908387 0.590838999228 0.324043947914\n",
      "apartment : 0.151313663024 0.0984184960438 0.179738788649 0.0921226639643 0.206762611439 0.442888111378 0.266816092464 0.628415445307 0.244204702353\n",
      "bicycle : 0.12913851059 0.299463322242 0.116242880408 0.064473685197 0.150329443171 0.394742010137 0.39713276371 0.660530376378 0.230517125036\n",
      "hammer : 0.0933974120956 0.244459949353 0.116869522014 0.0835725040358 0.11256146658 0.414410735506 0.205178518193 0.525426786063 0.310923168288\n",
      "beetle : 0.19340579953 0.166138160169 0.291013104951 0.136550026793 0.188435806679 0.535958708554 0.191268731233 0.389185026426 0.23249196344\n",
      "pliers : 0.0834656756995 0.119725739906 0.0853597703902 0.100590279735 0.0961328212588 0.547641424611 0.453951135302 0.550001610385 0.326083480616\n",
      "door : 0.115669496161 0.112093119833 0.145674966677 0.0746105691036 0.31692234186 0.402128620065 0.154245569597 0.506958918056 0.105015528979\n",
      "dress : 0.1136094816 0.100053924378 0.169261288729 0.0748190033793 0.208963143989 0.426893695547 0.228925702803 0.558263880612 0.225794656896\n"
     ]
    }
   ],
   "source": [
    "x = []\n",
    "y_1 = []\n",
    "y_2 = []\n",
    "y_3 = []\n",
    "y_4 = []\n",
    "y_5 = []\n",
    "y_6 = []\n",
    "y_7 = []\n",
    "y_8 = []\n",
    "y_9 = []\n",
    "for key_word in word_set:\n",
    "    divs_1 = []\n",
    "    divs_2 = []\n",
    "    divs_3 = []\n",
    "    divs_4 = []\n",
    "    divs_5 = []\n",
    "    divs_6 = []\n",
    "    divs_7 = []\n",
    "    divs_8 = []\n",
    "    divs_9 = []\n",
    "\n",
    "    for i in np.arange(6):\n",
    "        for j in np.arange(i,6):\n",
    "            d1_1 = real_activatoins_1[key_word][i]\n",
    "            d2_1 = real_activatoins_1[key_word][j]\n",
    "\n",
    "            d1_2 = real_activatoins_2[key_word][i]\n",
    "            d2_2 = real_activatoins_2[key_word][j]\n",
    "\n",
    "            d1_3 = real_activatoins_3[key_word][i]\n",
    "            d2_3 = real_activatoins_3[key_word][j]\n",
    "\n",
    "            d1_4 = real_activatoins_4[key_word][i]\n",
    "            d2_4 = real_activatoins_4[key_word][j]\n",
    "\n",
    "            d1_5 = real_activatoins_5[key_word][i]\n",
    "            d2_5 = real_activatoins_5[key_word][j]\n",
    "\n",
    "            d1_6 = real_activatoins_6[key_word][i]\n",
    "            d2_6 = real_activatoins_6[key_word][j]\n",
    "\n",
    "            d1_7 = real_activatoins_7[key_word][i]\n",
    "            d2_7 = real_activatoins_7[key_word][j]\n",
    "\n",
    "            d1_8 = real_activatoins_8[key_word][i]\n",
    "            d2_8 = real_activatoins_8[key_word][j]\n",
    "\n",
    "            d1_9 = real_activatoins_9[key_word][i]\n",
    "            d2_9 = real_activatoins_9[key_word][j]\n",
    "\n",
    "\n",
    "            divs_1.append(jsdiv(d1_1,d2_1))\n",
    "            divs_2.append(jsdiv(d1_2,d2_2))\n",
    "            divs_3.append(jsdiv(d1_3,d2_3))\n",
    "            divs_4.append(jsdiv(d1_4,d2_4))\n",
    "            divs_5.append(jsdiv(d1_5,d2_5))\n",
    "            divs_6.append(jsdiv(d1_6,d2_6))\n",
    "            divs_7.append(jsdiv(d1_7,d2_7))\n",
    "            divs_8.append(jsdiv(d1_8,d2_8))\n",
    "            divs_9.append(jsdiv(d1_9,d2_9))\n",
    "            \n",
    "    \n",
    "    print(key_word+\" : \"+str(mean(divs_1))+\" \"+str(mean(divs_2))+\" \"+str(mean(divs_3))+\" \"+str(mean(divs_4))\n",
    "                  +\" \"+str(mean(divs_5))+\" \"+str(mean(divs_6))+\" \"+str(mean(divs_7))+\" \"\n",
    "                 +str(mean(divs_8))+\" \"+str(mean(divs_9)))\n",
    "    x.append(word_set.index(key_word))\n",
    "    y_1.append(np.mean(divs_1))\n",
    "    y_2.append(np.mean(divs_2))\n",
    "    y_3.append(np.mean(divs_3))\n",
    "    y_4.append(np.mean(divs_4))\n",
    "    y_5.append(np.mean(divs_5))\n",
    "    y_6.append(np.mean(divs_6))\n",
    "    y_7.append(np.mean(divs_7))\n",
    "    y_8.append(np.mean(divs_8))\n",
    "    y_9.append(np.mean(divs_9))\n",
    "\n",
    "\n",
    "\n"
   ]
  },
  {
   "cell_type": "code",
   "execution_count": 26,
   "metadata": {
    "collapsed": false
   },
   "outputs": [
    {
     "data": {
      "image/png": "[encoded data removed]",
      "text/plain": [
       "<matplotlib.figure.Figure at 0x10b34b550>"
      ]
     },
     "metadata": {},
     "output_type": "display_data"
    }
   ],
   "source": [
    "plt.title(\"Js between brain activations for each word for P\"+str(1))\n",
    "width = 0.35\n",
    "plt.bar(np.arange(len(x)),y_1,width,color=\"red\")\n",
    "plt.bar(np.arange(len(x))+width,y_2,width,color=\"green\")\n",
    "plt.bar(np.arange(len(x))+width*2,y_3,width,color=\"blue\")\n",
    "plt.bar(np.arange(len(x))+width*3,y_4,width,color=\"orange\")\n",
    "plt.bar(np.arange(len(x))+width*4,y_5,width,color=\"gray\")\n",
    "plt.bar(np.arange(len(x))+width*5,y_6,width,color=\"yellow\")\n",
    "plt.bar(np.arange(len(x))+width*6,y_7,width,color=\"black\")\n",
    "plt.bar(np.arange(len(x))+width*7,y_8,width,color=\"blue\")\n",
    "plt.bar(np.arange(len(x))+width*8,y_9,width,color=\"gray\")\n",
    "\n",
    "plt.xlabel(x)\n",
    "plt.show()\n"
   ]
  },
  {
   "cell_type": "code",
   "execution_count": null,
   "metadata": {
    "collapsed": true
   },
   "outputs": [],
   "source": [
    "for key_word in word_activations_dic.keys():\n",
    "    averaged = np.mean(word_activations_dic[key_word],axis=0)\n",
    "    sort_index = np.argsort(averaged)\n",
    "    \"\"\"x = np.arange(number_of_voxels)\n",
    "\n",
    "    with plt.style.context('fivethirtyeight'):\n",
    "        for activation in word_activations_dic[key_word]:\n",
    "            plt.plot(x, activation)\n",
    "\n",
    "        plt.show()\n",
    "    \"\"\"\n",
    "    plt.title(key_word)\n",
    "    plt.imshow(np.asarray(word_activations_dic[key_word])[:,sort_index], interpolation='none',aspect='auto',cmap='gray')\n",
    "    plt.show()\n"
   ]
  },
  {
   "cell_type": "code",
   "execution_count": 2,
   "metadata": {
    "collapsed": true
   },
   "outputs": [],
   "source": [
    "import numpy as np\n",
    "import matplotlib.pyplot as plt\n",
    "from matplotlib import offsetbox\n",
    "from sklearn import manifold\n",
    "from sklearn import preprocessing\n",
    "from numpy import genfromtxt\n",
    "import csv\n",
    "\n",
    "\n",
    "def plot_embedding(features, classes, labels, title=None):\n",
    "    x_min, x_max = np.min(features, 0), np.max(features, 0)\n",
    "    features = (features - x_min) / (x_max - x_min)\n",
    "\n",
    "    plt.figure()\n",
    "    ax = plt.subplot(111)\n",
    "    for i in range(features.shape[0]):\n",
    "        plt.text(features[i, 0], features[i, 1], str(labels[i]),\n",
    "                 color=plt.cm.Set1(float(classes[i]/60)),\n",
    "                 fontdict={'weight': 'bold', 'size': 9})\n",
    "\n",
    "    if hasattr(offsetbox, 'AnnotationBbox'):\n",
    "        # only print thumbnails with matplotlib > 1.0\n",
    "        shown_images = np.array([[1., 1.]])  # just something big\n",
    "        for i in range(features.shape[0]):\n",
    "            dist = np.sum((features[i] - shown_images) ** 2, 1)\n",
    "            #if np.min(dist) < 4e-3:\n",
    "                # don't show points that are too close\n",
    "            #    continue\n",
    "            shown_images = np.r_[shown_images, [features[i]]]\n",
    "            \"\"\"imagebox = offsetbox.AnnotationBbox(\n",
    "                offsetbox.OffsetImage(digits.images[i], cmap=plt.cm.gray_r),\n",
    "                X[i])\n",
    "            ax.add_artist(imagebox)\"\"\"\n",
    "    plt.xticks([]), plt.yticks([])\n",
    "    if title is not None:\n",
    "        plt.title(title)\n",
    "\n",
    "\n",
    "\n",
    "def plot_distribution_t_SNE(activations,words,labels):\n",
    "    print(\"Computing t-SNE embedding\")\n",
    "\n",
    "    x = np.asarray(activations)\n",
    "    #x = preprocessing.normalize(x, norm='l2')\n",
    "\n",
    "    tsne = manifold.TSNE(n_components=2, init='pca', perplexity=2,n_iter=20000,early_exaggeration=4,learning_rate=100, method=\"exact\")\n",
    "    X_tsne = tsne.fit_transform(x)\n",
    "\n",
    "    plot_embedding(X_tsne, np.asarray(words), labels,\n",
    "                                       \"t-SNE embedding of the brain activations\")\n",
    "\n",
    "   # plt.show()\n",
    "\n",
    "\n",
    "\n",
    "\n"
   ]
  },
  {
   "cell_type": "code",
   "execution_count": 5,
   "metadata": {
    "collapsed": false
   },
   "outputs": [
    {
     "name": "stdout",
     "output_type": "stream",
     "text": [
      "(360, 19750)\n"
     ]
    }
   ],
   "source": [
    "if __name__ == '__main__':\n",
    "    from sklearn.preprocessing import scale\n",
    "    brain_activations_1 = brain_activations_1[:,:19750]\n",
    "    \"\"\"brain_activations_2 = brain_activations_2[:,:19750]\n",
    "    brain_activations_3 = brain_activations_3[:,:19750]\n",
    "    brain_activations_4 = brain_activations_4[:,:19750]\n",
    "    brain_activations_5 = brain_activations_5[:,:19750]\n",
    "    brain_activations_6 = brain_activations_6[:,:19750]\n",
    "    brain_activations_7 = brain_activations_7[:,:19750]\n",
    "    brain_activations_8 = brain_activations_8[:,:19750]\n",
    "    brain_activations_9 = brain_activations_9[:,:19750]\n",
    "    \"\"\"\n",
    "    \n",
    "    \"\"\"brain_activations = np.concatenate((brain_activations_1,brain_activations_2,brain_activations_3\n",
    "                                       ,brain_activations_4,brain_activations_5,brain_activations_6,\n",
    "                                       brain_activations_7,brain_activations_8,brain_activations_9),axis=0)\n",
    "        \n",
    "    \"\"\"   \n",
    "    #scale(brain_activations_1, axis=1, with_mean=True, with_std=True, copy=True)#stats.zscore(brain_activations_1,axis=1)\n",
    "\n",
    "  \n",
    "    #print(brain_activations.shape)\n",
    "    #brain_activations = np.asarray(brain_activations)\n",
    "    \n",
    "    print(brain_activations_1.shape)\n",
    "\n",
    "    words_1 = []\n",
    "    with open('../data/words', 'r') as f:\n",
    "        reader = csv.reader(f)\n",
    "        words_1 = list(reader)\n",
    "\n",
    "    words = []\n",
    "    words.extend([w[0] for w in words_1])\n",
    "    \"\"\"words.extend([w[0] for w in words_1])\n",
    "    words.extend([w[0] for w in words_1])\n",
    "    words.extend([w[0] for w in words_1])\n",
    "    words.extend([w[0] for w in words_1])\n",
    "    words.extend([w[0] for w in words_1])\n",
    "    words.extend([w[0] for w in words_1])\n",
    "    words.extend([w[0] for w in words_1])\n",
    "    words.extend([w[0] for w in words_1])\"\"\"\n",
    "    word_set = list(set(words))\n",
    "\n",
    "    dic, word_representations = get_word_representation(\"F25\", words)\n",
    "\n",
    "    #plot_distribution_t_SNE(np.asarray(brain_activations)[:,all_selected[0]],[word_set.index(word) for word in words],words)\n",
    "\n",
    "    number_of_features = len(word_representations[0])\n",
    "\n",
    "    selected = select_stable_voxels(brain_activations_1, word_set, words, 6)\n",
    "    \n",
    "    conds_1 = []\n",
    "    with open('../data/conds', 'r') as f:\n",
    "        reader = csv.reader(f)\n",
    "        conds_1 = list(reader)\n",
    "\n",
    "    conds = [int(c[0]) for c in conds_1]\n",
    "    "
   ]
  },
  {
   "cell_type": "code",
   "execution_count": null,
   "metadata": {
    "collapsed": false
   },
   "outputs": [
    {
     "name": "stdout",
     "output_type": "stream",
     "text": [
      "(360, 500)\n",
      "(360, 500)\n",
      "Computing t-SNE embedding\n"
     ]
    }
   ],
   "source": [
    "\n",
    "\n",
    "acts = sigmoid(np.asarray(brain_activations_1)[:,selected]) #* np.sum(w.get_weights()[0],axis=1)\n",
    "print(np.asarray(acts).shape)\n",
    "acts = softmax(np.asarray(acts))\n",
    "print(acts.shape)\n",
    "plot_distribution_t_SNE(acts,conds, words)\n",
    "plt.savefig(\"pall.svg\", format='svg', dpi=1200)\n",
    "plt.show()"
   ]
  },
  {
   "cell_type": "code",
   "execution_count": null,
   "metadata": {
    "collapsed": true
   },
   "outputs": [],
   "source": []
  }
 ],
 "metadata": {
  "kernelspec": {
   "display_name": "Python 3",
   "language": "python",
   "name": "python3"
  },
  "language_info": {
   "codemirror_mode": {
    "name": "ipython",
    "version": 3
   },
   "file_extension": ".py",
   "mimetype": "text/x-python",
   "name": "python",
   "nbconvert_exporter": "python",
   "pygments_lexer": "ipython3",
   "version": "3.5.1"
  },
  "latex_envs": {
   "bibliofile": "biblio.bib",
   "cite_by": "apalike",
   "current_citInitial": 1,
   "eqLabelWithNumbers": true,
   "eqNumInitial": 0
  }
 },
 "nbformat": 4,
 "nbformat_minor": 0
}
