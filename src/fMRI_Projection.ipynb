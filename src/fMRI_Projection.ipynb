{
 "cells": [
  {
   "cell_type": "code",
   "execution_count": 1,
   "metadata": {
    "collapsed": false
   },
   "outputs": [],
   "source": [
    "import numpy as np\n",
    "import matplotlib.pyplot as plt\n",
    "from matplotlib import offsetbox\n",
    "from sklearn import manifold\n",
    "from sklearn import preprocessing\n",
    "from numpy import genfromtxt\n",
    "import csv\n",
    "\n",
    "from functions import *"
   ]
  },
  {
   "cell_type": "code",
   "execution_count": 2,
   "metadata": {
    "collapsed": true
   },
   "outputs": [],
   "source": [
    "def plot_embedding(features, classes, labels, title=None):\n",
    "    x_min, x_max = np.min(features, 0), np.max(features, 0)\n",
    "    features = (features - x_min) / (x_max - x_min)\n",
    "\n",
    "    plt.figure()\n",
    "    ax = plt.subplot(111)\n",
    "    for i in range(features.shape[0]):\n",
    "        plt.text(features[i, 0], features[i, 1], str(labels[i]),\n",
    "                 color=plt.get_cmap(\"Spectral\")(float(classes[i])),\n",
    "                 fontdict={'weight': 'bold', 'size': 9})\n",
    "\n",
    "    if hasattr(offsetbox, 'AnnotationBbox'):\n",
    "        # only print thumbnails with matplotlib > 1.0\n",
    "        shown_images = np.array([[1., 1.]])  # just something big\n",
    "        for i in range(features.shape[0]):\n",
    "            dist = np.sum((features[i] - shown_images) ** 2, 1)\n",
    "            #if np.min(dist) < 4e-3:\n",
    "                # don't show points that are too close\n",
    "            #    continue\n",
    "            shown_images = np.r_[shown_images, [features[i]]]\n",
    "            \"\"\"imagebox = offsetbox.AnnotationBbox(\n",
    "                offsetbox.OffsetImage(digits.images[i], cmap=plt.cm.gray_r),\n",
    "                X[i])\n",
    "            ax.add_artist(imagebox)\"\"\"\n",
    "    plt.xticks([]), plt.yticks([])\n",
    "    if title is not None:\n",
    "        plt.title(title)\n",
    "\n",
    "\n",
    "\n",
    "def plot_distribution_t_SNE(activations,words,labels):\n",
    "    print(\"Computing t-SNE embedding\")\n",
    "\n",
    "    x = np.asarray(activations)\n",
    "    #x = preprocessing.normalize(x, norm='l2')\n",
    "\n",
    "    tsne = manifold.TSNE(n_components=2, init='pca', perplexity=2,n_iter=30000,early_exaggeration=5,learning_rate=10, method=\"exact\")\n",
    "    X_tsne = tsne.fit_transform(x)\n",
    "\n",
    "    plot_embedding(X_tsne, np.asarray(words), labels,\n",
    "                                       \"\")"
   ]
  },
  {
   "cell_type": "code",
   "execution_count": 3,
   "metadata": {
    "collapsed": false
   },
   "outputs": [],
   "source": [
    "brain_activations_1 = genfromtxt('../data/data.csv', delimiter=',')\n",
    "brain_activations = brain_activations_1#scale(brain_activations_1, axis=1, with_mean=True, with_std=True, copy=True)#stats.zscore(brain_activations_1,axis=1)\n",
    "\n",
    "\n",
    "words_1 = []\n",
    "with open('../data/words', 'r') as f:\n",
    "    reader = csv.reader(f)\n",
    "    words_1 = list(reader)\n",
    "\n",
    "conds_1 = []\n",
    "with open('../data/conds', 'r') as f:\n",
    "    reader = csv.reader(f)\n",
    "    conds_1 = list(reader)\n",
    "\n",
    "words = []\n",
    "words.extend([w[0] for w in words_1])\n",
    "word_set = list(set(words))\n",
    "\n",
    "conds = [int(c[0]) for c in conds_1]"
   ]
  },
  {
   "cell_type": "code",
   "execution_count": 4,
   "metadata": {
    "collapsed": true
   },
   "outputs": [],
   "source": [
    "activations = brain_activations\n",
    "selected = select_stable_voxels(brain_activations, word_set, words, 6,size_of_selection=500)\n",
    "acts = np.asarray(activations)[:,selected] #* np.sum(w.get_weights()[0],axis=1)"
   ]
  },
  {
   "cell_type": "code",
   "execution_count": 5,
   "metadata": {
    "collapsed": false
   },
   "outputs": [
    {
     "name": "stdout",
     "output_type": "stream",
     "text": [
      "Using matplotlib backend: MacOSX\n",
      "Computing t-SNE embedding\n"
     ]
    }
   ],
   "source": [
    "%matplotlib\n",
    "plot_distribution_t_SNE(acts,\n",
    "                            [c / 30 for c in conds]# [word_set.index(word) for word in words]\n",
    "                            , words)\n",
    "plt.savefig(\"selected_not_normalized.svg\", format='svg', dpi=1200)\n",
    "plt.show()"
   ]
  },
  {
   "cell_type": "code",
   "execution_count": 6,
   "metadata": {
    "collapsed": false
   },
   "outputs": [
    {
     "name": "stdout",
     "output_type": "stream",
     "text": [
      "Computing t-SNE embedding\n"
     ]
    }
   ],
   "source": [
    "normalize_acts = normalize(sigmoid(acts))\n",
    "plot_distribution_t_SNE(normalize_acts,\n",
    "                            [c /12. for c in conds]# [word_set.index(word) for word in words]\n",
    "                            , words)\n",
    "plt.savefig(\"selected_normalized.svg\", format='svg', dpi=1200)\n",
    "plt.show()"
   ]
  },
  {
   "cell_type": "code",
   "execution_count": 9,
   "metadata": {
    "collapsed": false
   },
   "outputs": [
    {
     "name": "stdout",
     "output_type": "stream",
     "text": [
      "Computing t-SNE embedding\n"
     ]
    }
   ],
   "source": [
    "plot_distribution_t_SNE(brain_activations,\n",
    "                            [c / 15 for c in conds]# [word_set.index(word) for word in words]\n",
    "                            , words)\n",
    "\n",
    "plt.savefig(\"not_selected_not_normalized.svg\", format='svg', dpi=1200)\n",
    "plt.show()"
   ]
  },
  {
   "cell_type": "code",
   "execution_count": 10,
   "metadata": {
    "collapsed": false
   },
   "outputs": [
    {
     "name": "stdout",
     "output_type": "stream",
     "text": [
      "Computing t-SNE embedding\n"
     ]
    }
   ],
   "source": [
    "plot_distribution_t_SNE((sigmoid(brain_activations)),\n",
    "                            [c / 20 for c in conds]# [word_set.index(word) for word in words]\n",
    "                            , words)\n",
    "\n",
    "plt.savefig(\"not_selected_normalized.svg\", format='svg', dpi=1200)\n",
    "plt.show()"
   ]
  },
  {
   "cell_type": "code",
   "execution_count": null,
   "metadata": {
    "collapsed": true
   },
   "outputs": [],
   "source": [
    ""
   ]
  }
 ],
 "metadata": {
  "anaconda-cloud": {},
  "kernelspec": {
   "display_name": "Python [default]",
   "language": "python",
   "name": "python3"
  },
  "language_info": {
   "codemirror_mode": {
    "name": "ipython",
    "version": 3.0
   },
   "file_extension": ".py",
   "mimetype": "text/x-python",
   "name": "python",
   "nbconvert_exporter": "python",
   "pygments_lexer": "ipython3",
   "version": "3.5.2"
  },
  "latex_envs": {
   "bibliofile": "biblio.bib",
   "cite_by": "apalike",
   "current_citInitial": 1.0,
   "eqLabelWithNumbers": true,
   "eqNumInitial": 0.0
  }
 },
 "nbformat": 4,
 "nbformat_minor": 0
}