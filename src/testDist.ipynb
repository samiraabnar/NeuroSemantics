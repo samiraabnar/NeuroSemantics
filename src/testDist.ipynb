{
 "cells": [
  {
   "cell_type": "code",
   "execution_count": 2,
   "metadata": {},
   "outputs": [
    {
     "name": "stdout",
     "output_type": "stream",
     "text": [
      "[[ 0.80034184  0.34679877  0.82221301  0.14916446]\n",
      " [ 0.62041231  0.34149322  0.28771224  0.62199262]\n",
      " [ 0.46967778  0.46299796  0.24106646  0.62617749]] \n",
      "\n",
      "[[ 0.80034202  0.34679875  0.82221305  0.14916451]\n",
      " [ 0.62041235  0.34149313  0.28771213  0.62199265]\n",
      " [ 0.46967781  0.46299791  0.24106634  0.62617737]]\n"
     ]
    }
   ],
   "source": [
    "import tensorflow as tf\n",
    "import numpy as np\n",
    "from scipy.spatial.distance import cdist\n",
    "\n",
    "M1, M2, K = 3, 4, 2\n",
    "\n",
    "# Scipy calculation\n",
    "a = np.random.rand(M1, K).astype(np.float32)\n",
    "b = np.random.rand(M2, K).astype(np.float32)\n",
    "print(cdist(a, b, 'euclidean'), '\\n')\n",
    "\n",
    "# TF calculation\n",
    "A = tf.Variable(a)\n",
    "B = tf.Variable(b)\n",
    "\n",
    "p1 = tf.matmul(\n",
    "    tf.expand_dims(tf.reduce_sum(tf.square(A), 1), 1),\n",
    "    tf.ones(shape=(1, M2))\n",
    ")\n",
    "p2 = tf.transpose(tf.matmul(\n",
    "    tf.reshape(tf.reduce_sum(tf.square(B), 1), shape=[-1, 1]),\n",
    "    tf.ones(shape=(M1, 1)),\n",
    "    transpose_b=True\n",
    "))\n",
    "\n",
    "res = tf.sqrt(tf.add(p1, p2) - 2 * tf.matmul(A, B, transpose_b=True))\n",
    "\n",
    "with tf.Session() as sess:\n",
    "    sess.run(tf.global_variables_initializer())\n",
    "    print(sess.run(res))"
   ]
  },
  {
   "cell_type": "code",
   "execution_count": null,
   "metadata": {
    "collapsed": true
   },
   "outputs": [],
   "source": []
  }
 ],
 "metadata": {
  "anaconda-cloud": {},
  "kernelspec": {
   "display_name": "Python 3",
   "language": "python",
   "name": "python3"
  },
  "language_info": {
   "codemirror_mode": {
    "name": "ipython",
    "version": 3
   },
   "file_extension": ".py",
   "mimetype": "text/x-python",
   "name": "python",
   "nbconvert_exporter": "python",
   "pygments_lexer": "ipython3",
   "version": "3.6.8"
  },
  "latex_envs": {
   "bibliofile": "biblio.bib",
   "cite_by": "apalike",
   "current_citInitial": 1,
   "eqLabelWithNumbers": true,
   "eqNumInitial": 0
  }
 },
 "nbformat": 4,
 "nbformat_minor": 2
}
